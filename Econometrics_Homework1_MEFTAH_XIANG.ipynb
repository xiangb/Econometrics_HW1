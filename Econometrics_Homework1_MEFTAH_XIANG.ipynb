{
 "cells": [
  {
   "cell_type": "markdown",
   "metadata": {
    "collapsed": true
   },
   "source": [
    "# Homework 1 Econometrics \n",
    "## Mohammed Meftah & Binxiang Xiang\n"
   ]
  },
  {
   "cell_type": "markdown",
   "metadata": {},
   "source": [
    "### Data loading "
   ]
  },
  {
   "cell_type": "code",
   "execution_count": 1,
   "metadata": {
    "collapsed": false
   },
   "outputs": [],
   "source": [
    "bwages <- read.csv('bwages.dat',sep = '\\t')"
   ]
  },
  {
   "cell_type": "code",
   "execution_count": 2,
   "metadata": {
    "collapsed": false
   },
   "outputs": [],
   "source": [
    "variables_to_keep <- c('WAGE','EDUC','MALE','EXPER')\n",
    "bwages <- bwages[,variables_to_keep]\n",
    "\n",
    "# rename columns with lowercase \n",
    "colnames(bwages) <- c('wage','educ','male','exper')\n",
    "\n",
    "# format male column to factor \n",
    "#bwages$male <- as.factor(bwages$male)"
   ]
  },
  {
   "cell_type": "code",
   "execution_count": 3,
   "metadata": {
    "collapsed": false
   },
   "outputs": [
    {
     "data": {
      "text/html": [
       "<table>\n",
       "<thead><tr><th scope=col>wage</th><th scope=col>educ</th><th scope=col>male</th><th scope=col>exper</th></tr></thead>\n",
       "<tbody>\n",
       "\t<tr><td> 7.780208</td><td>1        </td><td>1        </td><td>23       </td></tr>\n",
       "\t<tr><td> 4.818505</td><td>1        </td><td>0        </td><td>15       </td></tr>\n",
       "\t<tr><td>10.563645</td><td>1        </td><td>1        </td><td>31       </td></tr>\n",
       "\t<tr><td> 7.042429</td><td>1        </td><td>1        </td><td>32       </td></tr>\n",
       "\t<tr><td> 7.887521</td><td>1        </td><td>1        </td><td> 9       </td></tr>\n",
       "\t<tr><td> 8.200058</td><td>1        </td><td>0        </td><td>15       </td></tr>\n",
       "</tbody>\n",
       "</table>\n"
      ],
      "text/latex": [
       "\\begin{tabular}{r|llll}\n",
       " wage & educ & male & exper\\\\\n",
       "\\hline\n",
       "\t  7.780208 & 1         & 1         & 23       \\\\\n",
       "\t  4.818505 & 1         & 0         & 15       \\\\\n",
       "\t 10.563645 & 1         & 1         & 31       \\\\\n",
       "\t  7.042429 & 1         & 1         & 32       \\\\\n",
       "\t  7.887521 & 1         & 1         &  9       \\\\\n",
       "\t  8.200058 & 1         & 0         & 15       \\\\\n",
       "\\end{tabular}\n"
      ],
      "text/plain": [
       "  wage      educ male exper\n",
       "1  7.780208 1    1    23   \n",
       "2  4.818505 1    0    15   \n",
       "3 10.563645 1    1    31   \n",
       "4  7.042429 1    1    32   \n",
       "5  7.887521 1    1     9   \n",
       "6  8.200058 1    0    15   "
      ]
     },
     "metadata": {},
     "output_type": "display_data"
    }
   ],
   "source": [
    "# show first lines of data \n",
    "head(bwages)"
   ]
  },
  {
   "cell_type": "markdown",
   "metadata": {},
   "source": [
    "#### 1. Descriptive statistics for variables"
   ]
  },
  {
   "cell_type": "markdown",
   "metadata": {},
   "source": [
    "* Number of observations"
   ]
  },
  {
   "cell_type": "code",
   "execution_count": 4,
   "metadata": {
    "collapsed": false
   },
   "outputs": [
    {
     "name": "stdout",
     "output_type": "stream",
     "text": [
      "[1] 1472\n"
     ]
    }
   ],
   "source": [
    "print(dim(bwages)[1])"
   ]
  },
  {
   "cell_type": "markdown",
   "metadata": {},
   "source": [
    "* Descriptive statistics"
   ]
  },
  {
   "cell_type": "code",
   "execution_count": 5,
   "metadata": {
    "collapsed": false
   },
   "outputs": [
    {
     "data": {
      "text/plain": [
       "      wage             educ            male            exper      \n",
       " Min.   : 2.191   Min.   :1.000   Min.   :0.0000   Min.   : 0.00  \n",
       " 1st Qu.: 8.113   1st Qu.:3.000   1st Qu.:0.0000   1st Qu.: 9.00  \n",
       " Median :10.127   Median :3.000   Median :1.0000   Median :16.50  \n",
       " Mean   :11.051   Mean   :3.378   Mean   :0.6067   Mean   :17.22  \n",
       " 3rd Qu.:12.755   3rd Qu.:4.000   3rd Qu.:1.0000   3rd Qu.:24.00  \n",
       " Max.   :47.576   Max.   :5.000   Max.   :1.0000   Max.   :47.00  "
      ]
     },
     "metadata": {},
     "output_type": "display_data"
    }
   ],
   "source": [
    "summary(bwages)"
   ]
  },
  {
   "cell_type": "markdown",
   "metadata": {},
   "source": [
    "#### 2. Create dummy variables for educ"
   ]
  },
  {
   "cell_type": "code",
   "execution_count": 6,
   "metadata": {
    "collapsed": true
   },
   "outputs": [],
   "source": [
    "# with transformation to factor\n",
    "educ1 <- ifelse(bwages$educ==1,1,0)\n",
    "educ2 <- ifelse(bwages$educ==2,1,0)\n",
    "educ3 <- ifelse(bwages$educ==3,1,0)\n",
    "educ4 <- ifelse(bwages$educ==4,1,0)"
   ]
  },
  {
   "cell_type": "markdown",
   "metadata": {},
   "source": [
    "We do not need to create educ5 because this case is covered when educ1, educ2, educ3 and educ4 equal zero."
   ]
  },
  {
   "cell_type": "markdown",
   "metadata": {},
   "source": [
    "* Concatenate to bwages "
   ]
  },
  {
   "cell_type": "code",
   "execution_count": 7,
   "metadata": {
    "collapsed": true
   },
   "outputs": [],
   "source": [
    "bwages <- cbind(bwages,educ1,educ2,educ3,educ4)"
   ]
  },
  {
   "cell_type": "code",
   "execution_count": 8,
   "metadata": {
    "collapsed": false,
    "scrolled": true
   },
   "outputs": [
    {
     "data": {
      "text/plain": [
       "      wage             educ            male            exper      \n",
       " Min.   : 2.191   Min.   :1.000   Min.   :0.0000   Min.   : 0.00  \n",
       " 1st Qu.: 8.113   1st Qu.:3.000   1st Qu.:0.0000   1st Qu.: 9.00  \n",
       " Median :10.127   Median :3.000   Median :1.0000   Median :16.50  \n",
       " Mean   :11.051   Mean   :3.378   Mean   :0.6067   Mean   :17.22  \n",
       " 3rd Qu.:12.755   3rd Qu.:4.000   3rd Qu.:1.0000   3rd Qu.:24.00  \n",
       " Max.   :47.576   Max.   :5.000   Max.   :1.0000   Max.   :47.00  \n",
       "     educ1             educ2          educ3            educ4       \n",
       " Min.   :0.00000   Min.   :0.00   Min.   :0.0000   Min.   :0.0000  \n",
       " 1st Qu.:0.00000   1st Qu.:0.00   1st Qu.:0.0000   1st Qu.:0.0000  \n",
       " Median :0.00000   Median :0.00   Median :0.0000   Median :0.0000  \n",
       " Mean   :0.06726   Mean   :0.18   Mean   :0.2853   Mean   :0.2418  \n",
       " 3rd Qu.:0.00000   3rd Qu.:0.00   3rd Qu.:1.0000   3rd Qu.:0.0000  \n",
       " Max.   :1.00000   Max.   :1.00   Max.   :1.0000   Max.   :1.0000  "
      ]
     },
     "metadata": {},
     "output_type": "display_data"
    }
   ],
   "source": [
    "summary(bwages)"
   ]
  },
  {
   "cell_type": "markdown",
   "metadata": {},
   "source": [
    "#### 3. OLS model"
   ]
  },
  {
   "cell_type": "code",
   "execution_count": 9,
   "metadata": {
    "collapsed": true
   },
   "outputs": [],
   "source": [
    "model_1 <- lm(wage~male+educ1+educ2+educ3+educ4+exper,data=bwages)"
   ]
  },
  {
   "cell_type": "markdown",
   "metadata": {},
   "source": [
    "* Estimated model"
   ]
  },
  {
   "cell_type": "code",
   "execution_count": 10,
   "metadata": {
    "collapsed": false
   },
   "outputs": [
    {
     "data": {
      "text/plain": [
       "\n",
       "Call:\n",
       "lm(formula = wage ~ male + educ1 + educ2 + educ3 + educ4 + exper, \n",
       "    data = bwages)\n",
       "\n",
       "Residuals:\n",
       "     Min       1Q   Median       3Q      Max \n",
       "-13.6859  -1.8975  -0.2973   1.5425  30.5328 \n",
       "\n",
       "Coefficients:\n",
       "             Estimate Std. Error t value Pr(>|t|)    \n",
       "(Intercept) 10.401010   0.259946  40.012  < 2e-16 ***\n",
       "male         1.300905   0.194696   6.682 3.35e-11 ***\n",
       "educ1       -7.904926   0.420969 -18.778  < 2e-16 ***\n",
       "educ2       -6.089686   0.298745 -20.384  < 2e-16 ***\n",
       "educ3       -4.244575   0.261643 -16.223  < 2e-16 ***\n",
       "educ4       -2.417478   0.272185  -8.882  < 2e-16 ***\n",
       "exper        0.190744   0.009644  19.779  < 2e-16 ***\n",
       "---\n",
       "Signif. codes:  0 ‘***’ 0.001 ‘**’ 0.01 ‘*’ 0.05 ‘.’ 0.1 ‘ ’ 1\n",
       "\n",
       "Residual standard error: 3.548 on 1465 degrees of freedom\n",
       "Multiple R-squared:  0.367,\tAdjusted R-squared:  0.3644 \n",
       "F-statistic: 141.5 on 6 and 1465 DF,  p-value: < 2.2e-16\n"
      ]
     },
     "metadata": {},
     "output_type": "display_data"
    }
   ],
   "source": [
    "summary(model_1)"
   ]
  },
  {
   "cell_type": "markdown",
   "metadata": {},
   "source": [
    "#### 4. Coefficients interpretation"
   ]
  },
  {
   "cell_type": "markdown",
   "metadata": {},
   "source": [
    "First of all, we can see that each of the estimated coefficient is significant."
   ]
  },
  {
   "cell_type": "markdown",
   "metadata": {},
   "source": [
    "* The intercept $\\beta_0$ = 10.40 corresponds to the gross hourly wage of a woman (male=0) with a high education level (educ=5) and no experience (exper=0).\n",
    "\n",
    "* For exper and educ fixed, $\\beta_1$ = 1.30 is the additional amount of gross hourly wage a man will earn compared to a woman.\n",
    "\n",
    "* For male and exper fixed, $\\beta_2$ = -7.90 is the 'additional' amount of gross hourly wage someone with educ = 1 will earn compared to someone with educ = 5. As $\\beta_2$ is negative, so the person with educ=1 will actually earn $|\\beta_2|$ less.\n",
    "\n",
    "* For male and exper fixed, $\\beta_3$ = -6.09 is the 'additional' amount of gross hourly wage someone with educ = 2 will earn compared to someone with educ = 5. As $\\beta_3$ is negative, so the person with educ=2 will actually earn $|\\beta_3|$ less. \n",
    "\n",
    "* For male and exper fixed, $\\beta_4$ = -4.24 is the 'additional' amount of gross hourly wage someone with educ = 3 will earn compared to someone with educ = 5. As $\\beta_4$ is negative, so the person with educ=3 will actually earn $|\\beta_4|$ less. \n",
    "\n",
    "* For male and exper fixed, $\\beta_5$ = -2.42 is the 'additional' amount of gross hourly wage someone with educ = 4 will earn compared to someone with educ = 5. As $\\beta_5$ is negative, so the person with educ=4 will actually earn $|\\beta_5|$ less. \n",
    "\n",
    "* For male and educ fixed, $\\beta_6$ = 0.19 is the additional amount of gross hourly wage someone will earn with a additional year of experience."
   ]
  },
  {
   "cell_type": "markdown",
   "metadata": {},
   "source": [
    "#### 5.  "
   ]
  },
  {
   "cell_type": "markdown",
   "metadata": {},
   "source": [
    "As we said in 2., it's because the case educ = 5 is covered when educ1 = 0, educ2 = 0, educ3 = 0 and educ4 =0. That's why we interpret the previous coefficients for educ dummy variables to the case educ = 5."
   ]
  },
  {
   "cell_type": "markdown",
   "metadata": {},
   "source": [
    "#### 6. "
   ]
  },
  {
   "cell_type": "markdown",
   "metadata": {},
   "source": [
    "We suppose that educ = 5 corresponds to a university level. Then the expected salary $W_1$ for a man with an university level education is : $W_1 = \\beta_0 + \\beta_1 + \\beta_6exper \\approx 11.7 + 0.19exper $.\n",
    "\n",
    "Then if the man has 10 years of experience, he should expect to earn 13.6 per hour (gross).\n"
   ]
  },
  {
   "cell_type": "markdown",
   "metadata": {},
   "source": [
    "#### 7. Z tests"
   ]
  },
  {
   "cell_type": "markdown",
   "metadata": {},
   "source": [
    "Let be i $\\in [0,1,2,3,4,5,6]$, \n",
    "\n",
    "We want to test the significancy of $\\beta_i$ with the following hypotheses : \n",
    "* The null hypothesis $H_0$ is $\\beta_i$ = 0.\n",
    "* The alternative hypothesis $H_1$ is $\\beta_i \\neq$ 0.\n",
    "\n",
    "We can then compute the Z-test as $Z_i = Z(\\beta_i) = \\frac{\\beta_i-0}{SE(\\beta_i)}$, where $SE(\\beta_i)$ is the standard error of $\\beta_i$.\n",
    "\n",
    "We note with $Z_{\\alpha = 0.05} = 2.96$ the absolute critical value for 5 % significancy. Then if $|Z_i| \\geq Z_{\\alpha = 0.05}$, we can reject the null hypothesis with 5 % significancy.\n",
    "\n",
    "\n",
    "We can now compute, with coefficient values and standard error SE or just read the results of 3. in the t-value column, the Z-test for our coefficients : \n",
    "\n",
    "* $Z_0$ = 40 > $Z_{\\alpha = 0.05}$, we can reject the null with 5% significancy level.\n",
    "* $Z_1$ = 6.68 > $Z_{\\alpha = 0.05}$, we can reject the null with 5% significancy level.\n",
    "* $|Z_2|$ = 18.78 > $Z_{\\alpha = 0.05}$, we can reject the null with 5% significancy level.\n",
    "* $|Z_3|$ = 20.38 > $Z_{\\alpha = 0.05}$, we can reject the null with 5% significancy level.\n",
    "* $|Z_4|$ = 16.22 > $Z_{\\alpha = 0.05}$, we can reject the null with 5% significancy level.\n",
    "* $|Z_5|$ = 8.88 > $Z_{\\alpha = 0.05}$, we can reject the null with 5% significancy level.\n",
    "* $Z_6$ = 19.78 > $Z_{\\alpha = 0.05}$, we can reject the null with 5% significancy level.\n",
    "\n",
    "So, our variables are all significant at 5% level (at even lower level)."
   ]
  },
  {
   "cell_type": "markdown",
   "metadata": {},
   "source": [
    "#### 8. "
   ]
  },
  {
   "cell_type": "markdown",
   "metadata": {},
   "source": [
    "As $\\beta_1$ is significant, so men are earning 1.3 euros more per hour than woman, all other variables fixed."
   ]
  },
  {
   "cell_type": "markdown",
   "metadata": {},
   "source": [
    "#### 9. We add $exper^2$ as a variable "
   ]
  },
  {
   "cell_type": "code",
   "execution_count": 11,
   "metadata": {
    "collapsed": true
   },
   "outputs": [],
   "source": [
    "# Add exper^2 to the dataset \n",
    "bwages['exper2'] = bwages['exper']**2"
   ]
  },
  {
   "cell_type": "code",
   "execution_count": 12,
   "metadata": {
    "collapsed": true
   },
   "outputs": [],
   "source": [
    "model_2 <- lm(wage~male+educ1+educ2+educ3+educ4+exper+exper2,data=bwages)"
   ]
  },
  {
   "cell_type": "markdown",
   "metadata": {},
   "source": [
    "* Estimated model"
   ]
  },
  {
   "cell_type": "code",
   "execution_count": 13,
   "metadata": {
    "collapsed": false,
    "scrolled": true
   },
   "outputs": [
    {
     "data": {
      "text/plain": [
       "\n",
       "Call:\n",
       "lm(formula = wage ~ male + educ1 + educ2 + educ3 + educ4 + exper + \n",
       "    exper2, data = bwages)\n",
       "\n",
       "Residuals:\n",
       "     Min       1Q   Median       3Q      Max \n",
       "-12.8842  -1.9112  -0.2553   1.4629  30.4009 \n",
       "\n",
       "Coefficients:\n",
       "              Estimate Std. Error t value Pr(>|t|)    \n",
       "(Intercept)  9.3199718  0.3218616  28.956  < 2e-16 ***\n",
       "male         1.2848381  0.1927377   6.666 3.71e-11 ***\n",
       "educ1       -7.8258289  0.4169283 -18.770  < 2e-16 ***\n",
       "educ2       -6.1480903  0.2958915 -20.778  < 2e-16 ***\n",
       "educ3       -4.3017952  0.2591850 -16.597  < 2e-16 ***\n",
       "educ4       -2.4621766  0.2695355  -9.135  < 2e-16 ***\n",
       "exper        0.3595458  0.0316666  11.354  < 2e-16 ***\n",
       "exper2      -0.0044611  0.0007979  -5.591 2.69e-08 ***\n",
       "---\n",
       "Signif. codes:  0 ‘***’ 0.001 ‘**’ 0.01 ‘*’ 0.05 ‘.’ 0.1 ‘ ’ 1\n",
       "\n",
       "Residual standard error: 3.512 on 1464 degrees of freedom\n",
       "Multiple R-squared:  0.3802,\tAdjusted R-squared:  0.3772 \n",
       "F-statistic: 128.3 on 7 and 1464 DF,  p-value: < 2.2e-16\n"
      ]
     },
     "metadata": {},
     "output_type": "display_data"
    }
   ],
   "source": [
    "summary(model_2)"
   ]
  },
  {
   "cell_type": "code",
   "execution_count": 14,
   "metadata": {
    "collapsed": false
   },
   "outputs": [
    {
     "data": {
      "text/html": [
       "7.01244617928864e-14"
      ],
      "text/latex": [
       "7.01244617928864e-14"
      ],
      "text/markdown": [
       "7.01244617928864e-14"
      ],
      "text/plain": [
       "[1] 7.012446e-14"
      ]
     },
     "metadata": {},
     "output_type": "display_data"
    }
   ],
   "source": [
    "sum(model_2$residuals)"
   ]
  },
  {
   "cell_type": "markdown",
   "metadata": {},
   "source": [
    "#### 10.  For male and educ fixed "
   ]
  },
  {
   "cell_type": "markdown",
   "metadata": {},
   "source": [
    "The gross hourly wage can be expressed as $wage = cst + 0.360exper - 0.0045exper^2$.\n",
    "\n",
    "If we note $f(exper) = 0.360exper - 0.0045exper^2$, then by taking the derivative we can find that the maximum of $f$ is reached at $exper = \\frac{0.360}{0.009} = 40$, $f$ increases on $[0,40]$ and decreases on $]40,Inf[$.\n",
    "\n",
    "How do we interpret this ? \n",
    "The previous results show that : \n",
    "* For exper $\\in [0,40]$, the wage is increasing with exper. The impact of exper is the biggest when exper = 40. \n",
    "* However starting from exper = 41, the impact of exper on the wage start to decrease. \n",
    "\n",
    "This means that when someone has strictly more than 40 years of experience, his experience does not bring anything more for his wage , worse it makes the wage decrease (near retirement)."
   ]
  },
  {
   "cell_type": "markdown",
   "metadata": {},
   "source": [
    "#### 11."
   ]
  },
  {
   "cell_type": "markdown",
   "metadata": {},
   "source": [
    "We note with $\\beta_7$ the coefficient for $exper^2$."
   ]
  },
  {
   "cell_type": "markdown",
   "metadata": {},
   "source": [
    "We want to test the null hypothesis :\n",
    "$H_0$ : $\\beta_6 = 0$ and $\\beta_7 = 0$\n",
    "against the alternative hypothesis : \n",
    "$H_1$ : $\\beta_6 \\neq 0$ or $\\beta_7 \\neq 0$\n",
    "\n",
    "We want now to compute the F-test in order to know if we have to reject or not the null hypothesis.\n",
    "\n",
    "* model_2 computed before represents the unrestricted regression. We note with $URSS$ the residuals sum of squares for the unrestricted regression.\n",
    "\n",
    "* model_2bis, that we will compute, represents the restricted regression where we didn't consider $exper$ and $exper^2$ as variables. We note with $RRSS$ the residuals sum of squares for the restricted regression.\n"
   ]
  },
  {
   "cell_type": "code",
   "execution_count": 15,
   "metadata": {
    "collapsed": true
   },
   "outputs": [],
   "source": [
    "URSS <- sum(model_2$residuals**2)\n",
    "model_2bis <- lm(wage~male+educ1+educ2+educ3+educ4,data=bwages)\n",
    "RRSS <- sum(model_2bis$residuals**2)"
   ]
  },
  {
   "cell_type": "markdown",
   "metadata": {},
   "source": [
    "Then $F = \\frac{RRSS-URSS}{URSS}\\frac{T-k}{m}$, with :\n",
    "* T the number of observations in our dataset, here T = 1472.\n",
    "* k the number of parameters to estimate in the restricted regression, here k = 6.\n",
    "* m the number of restrictions, here m = 2.\n",
    "\n",
    "\n"
   ]
  },
  {
   "cell_type": "markdown",
   "metadata": {},
   "source": [
    "So, F equals : "
   ]
  },
  {
   "cell_type": "code",
   "execution_count": 16,
   "metadata": {
    "collapsed": false
   },
   "outputs": [
    {
     "name": "stdout",
     "output_type": "stream",
     "text": [
      "[1] 215.5673\n"
     ]
    }
   ],
   "source": [
    "F = ((RRSS-URSS)/URSS)*((1472-6)/2)\n",
    "print(F)"
   ]
  },
  {
   "cell_type": "markdown",
   "metadata": {},
   "source": [
    "Therefore F >> $F_{alpha=0.05}(2,1466) \\approx 3.00$, so we can reject the null hypothesis at 5% level of significance. \n",
    "So, experience is significant."
   ]
  },
  {
   "cell_type": "markdown",
   "metadata": {},
   "source": [
    "#### 12."
   ]
  },
  {
   "cell_type": "markdown",
   "metadata": {
    "collapsed": true
   },
   "source": [
    "We can take into account the gender, i.e. model the output differently according the gender :$$wage = \\beta_0 + \\alpha_0 male + (\\beta_1 + \\alpha_1 male)educ1 + + (\\beta_2 + \\alpha_2 male)educ2 + + (\\beta_3 + \\alpha_3 male)educ3 + (\\beta_4 + \\alpha_4 male)educ4 + (\\beta_5 + \\alpha_5 male)exper + \\epsilon $$"
   ]
  },
  {
   "cell_type": "markdown",
   "metadata": {},
   "source": [
    "#### 13."
   ]
  },
  {
   "cell_type": "markdown",
   "metadata": {},
   "source": [
    "We can fit two models differently for male and female or just create interaction variables, so we do that:"
   ]
  },
  {
   "cell_type": "code",
   "execution_count": 25,
   "metadata": {
    "collapsed": false
   },
   "outputs": [
    {
     "data": {
      "text/html": [
       "<ol class=list-inline>\n",
       "\t<li>'wage'</li>\n",
       "\t<li>'educ'</li>\n",
       "\t<li>'male'</li>\n",
       "\t<li>'exper'</li>\n",
       "\t<li>'educ1'</li>\n",
       "\t<li>'educ2'</li>\n",
       "\t<li>'educ3'</li>\n",
       "\t<li>'educ4'</li>\n",
       "\t<li>'exper2'</li>\n",
       "\t<li>'male_exper'</li>\n",
       "\t<li>'male_educ1'</li>\n",
       "\t<li>'male_educ2'</li>\n",
       "\t<li>'male_educ3'</li>\n",
       "\t<li>'male_educ4'</li>\n",
       "\t<li>'male_exper2'</li>\n",
       "</ol>\n"
      ],
      "text/latex": [
       "\\begin{enumerate*}\n",
       "\\item 'wage'\n",
       "\\item 'educ'\n",
       "\\item 'male'\n",
       "\\item 'exper'\n",
       "\\item 'educ1'\n",
       "\\item 'educ2'\n",
       "\\item 'educ3'\n",
       "\\item 'educ4'\n",
       "\\item 'exper2'\n",
       "\\item 'male\\_exper'\n",
       "\\item 'male\\_educ1'\n",
       "\\item 'male\\_educ2'\n",
       "\\item 'male\\_educ3'\n",
       "\\item 'male\\_educ4'\n",
       "\\item 'male\\_exper2'\n",
       "\\end{enumerate*}\n"
      ],
      "text/markdown": [
       "1. 'wage'\n",
       "2. 'educ'\n",
       "3. 'male'\n",
       "4. 'exper'\n",
       "5. 'educ1'\n",
       "6. 'educ2'\n",
       "7. 'educ3'\n",
       "8. 'educ4'\n",
       "9. 'exper2'\n",
       "10. 'male_exper'\n",
       "11. 'male_educ1'\n",
       "12. 'male_educ2'\n",
       "13. 'male_educ3'\n",
       "14. 'male_educ4'\n",
       "15. 'male_exper2'\n",
       "\n",
       "\n"
      ],
      "text/plain": [
       " [1] \"wage\"        \"educ\"        \"male\"        \"exper\"       \"educ1\"      \n",
       " [6] \"educ2\"       \"educ3\"       \"educ4\"       \"exper2\"      \"male_exper\" \n",
       "[11] \"male_educ1\"  \"male_educ2\"  \"male_educ3\"  \"male_educ4\"  \"male_exper2\""
      ]
     },
     "metadata": {},
     "output_type": "display_data"
    }
   ],
   "source": [
    "for (col in colnames(bwages)[4:9]){\n",
    "    bwages[sprintf('male_%s',col)] = bwages['male'] * bwages[col]\n",
    "}\n",
    "colnames(bwages)"
   ]
  },
  {
   "cell_type": "code",
   "execution_count": 32,
   "metadata": {
    "collapsed": false
   },
   "outputs": [],
   "source": [
    "model_with_interactions <- lm(wage~.,data=bwages[,-2])"
   ]
  },
  {
   "cell_type": "code",
   "execution_count": 34,
   "metadata": {
    "collapsed": false
   },
   "outputs": [
    {
     "data": {
      "text/plain": [
       "\n",
       "Call:\n",
       "lm(formula = wage ~ ., data = bwages[, -2])\n",
       "\n",
       "Residuals:\n",
       "     Min       1Q   Median       3Q      Max \n",
       "-13.5651  -1.9248  -0.2848   1.4573  29.9747 \n",
       "\n",
       "Coefficients:\n",
       "             Estimate Std. Error t value Pr(>|t|)    \n",
       "(Intercept)  9.109765   0.460201  19.795  < 2e-16 ***\n",
       "male         1.480148   0.618426   2.393   0.0168 *  \n",
       "exper        0.386457   0.051089   7.564 6.86e-14 ***\n",
       "educ1       -7.496691   0.811123  -9.242  < 2e-16 ***\n",
       "educ2       -5.910811   0.537016 -11.007  < 2e-16 ***\n",
       "educ3       -3.628426   0.412921  -8.787  < 2e-16 ***\n",
       "educ4       -2.065297   0.397034  -5.202 2.25e-07 ***\n",
       "exper2      -0.006185   0.001360  -4.547 5.89e-06 ***\n",
       "male_exper  -0.023670   0.065369  -0.362   0.7173    \n",
       "male_educ1  -0.628039   0.947146  -0.663   0.5074    \n",
       "male_educ2  -0.404190   0.644677  -0.627   0.5308    \n",
       "male_educ3  -1.115488   0.529423  -2.107   0.0353 *  \n",
       "male_educ4  -0.700455   0.541976  -1.292   0.1964    \n",
       "male_exper2  0.002171   0.001686   1.287   0.1981    \n",
       "---\n",
       "Signif. codes:  0 ‘***’ 0.001 ‘**’ 0.01 ‘*’ 0.05 ‘.’ 0.1 ‘ ’ 1\n",
       "\n",
       "Residual standard error: 3.502 on 1458 degrees of freedom\n",
       "Multiple R-squared:  0.3865,\tAdjusted R-squared:  0.381 \n",
       "F-statistic: 70.64 on 13 and 1458 DF,  p-value: < 2.2e-16\n"
      ]
     },
     "metadata": {},
     "output_type": "display_data"
    }
   ],
   "source": [
    "summary(model_with_interactions)"
   ]
  },
  {
   "cell_type": "code",
   "execution_count": 35,
   "metadata": {
    "collapsed": false
   },
   "outputs": [
    {
     "data": {
      "text/html": [
       "6.69950206422243e-15"
      ],
      "text/latex": [
       "6.69950206422243e-15"
      ],
      "text/markdown": [
       "6.69950206422243e-15"
      ],
      "text/plain": [
       "[1] 6.699502e-15"
      ]
     },
     "metadata": {},
     "output_type": "display_data"
    }
   ],
   "source": [
    "sum(model_with_interactions$residuals)"
   ]
  },
  {
   "cell_type": "code",
   "execution_count": null,
   "metadata": {
    "collapsed": true
   },
   "outputs": [],
   "source": []
  }
 ],
 "metadata": {
  "kernelspec": {
   "display_name": "R",
   "language": "R",
   "name": "ir"
  },
  "language_info": {
   "codemirror_mode": "r",
   "file_extension": ".r",
   "mimetype": "text/x-r-source",
   "name": "R",
   "pygments_lexer": "r",
   "version": "3.2.3"
  }
 },
 "nbformat": 4,
 "nbformat_minor": 1
}
